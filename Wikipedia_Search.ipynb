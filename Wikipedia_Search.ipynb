{
 "cells": [
  {
   "cell_type": "code",
   "execution_count": 30,
   "id": "672458f7",
   "metadata": {},
   "outputs": [
    {
     "name": "stdout",
     "output_type": "stream",
     "text": [
      "Enter the search term : moon\n"
     ]
    },
    {
     "name": "stderr",
     "output_type": "stream",
     "text": [
      "Loading…: 100%|██████████████████████████| 101/101 [00:01<00:00, 61.27it/s]\n"
     ]
    },
    {
     "name": "stdout",
     "output_type": "stream",
     "text": [
      " Error : link already exists\n"
     ]
    }
   ],
   "source": [
    "import wikipediaapi\n",
    "import os.path\n",
    "from tqdm import tqdm\n",
    "import time\n",
    "\n",
    "#checking if the file to append already exists, then don't create\n",
    "file_exists = os.path.exists('link_file.txt')\n",
    "if file_exists == False :\n",
    "    f = open(\"link_file.txt\", \"x\")\n",
    "\n",
    "#getting single page \n",
    "wiki_wiki = wikipediaapi.Wikipedia('en')\n",
    "\n",
    "search = input(\"Enter the search term : \")\n",
    "\n",
    "#Progress bar\n",
    "page_link = wiki_wiki.page(search)\n",
    "for i in tqdm (range (101), desc=\"Loading…\", ascii=False, ncols=75):\n",
    "    time.sleep(0.01)\n",
    "\n",
    "#checking if page exists\n",
    "page_exists = (page_link.exists())\n",
    "\n",
    "if page_exists:\n",
    "    link = (page_link.fullurl)\n",
    "    f = open(\"link_file.txt\",  \"r\")\n",
    "    if link in f.read():\n",
    "        print(\" Error : link already exists\")\n",
    "    else:\n",
    "        f1 = open(\"link_file.txt\", \"a\") \n",
    "        f1.write(link + \"\\n\")\n",
    "        f1.close()\n",
    "        print(\"link added to the file\")\n",
    "        print(link)\n",
    "else:\n",
    "    print(\"This wikipedia page does not exist\")"
   ]
  },
  {
   "cell_type": "code",
   "execution_count": 9,
   "id": "a505c886",
   "metadata": {},
   "outputs": [],
   "source": []
  },
  {
   "cell_type": "code",
   "execution_count": null,
   "id": "4b2b9fab",
   "metadata": {},
   "outputs": [],
   "source": []
  }
 ],
 "metadata": {
  "kernelspec": {
   "display_name": "Python 3",
   "language": "python",
   "name": "python3"
  },
  "language_info": {
   "codemirror_mode": {
    "name": "ipython",
    "version": 3
   },
   "file_extension": ".py",
   "mimetype": "text/x-python",
   "name": "python",
   "nbconvert_exporter": "python",
   "pygments_lexer": "ipython3",
   "version": "3.9.5"
  }
 },
 "nbformat": 4,
 "nbformat_minor": 5
}
